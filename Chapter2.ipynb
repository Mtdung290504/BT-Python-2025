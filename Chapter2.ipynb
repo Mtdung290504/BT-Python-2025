{
 "cells": [
  {
   "cell_type": "code",
   "execution_count": null,
   "id": "35935ade-a37e-4128-8499-a9f262699fb4",
   "metadata": {},
   "outputs": [],
   "source": [
    "\"\"\"\n",
    "Bài 1. Viết chương trình nhập vào một chuỗi\n",
    "Xuất ra màn hình chuỗi ký tự hoa\n",
    "Xuất ra màn hình chuỗi ký tự có ký tự đầu là ký tự hoa\n",
    "Xuất ra màn hình chuỗi ký tự thường\n",
    "\"\"\"\n"
   ]
  },
  {
   "cell_type": "code",
   "execution_count": null,
   "id": "9d2f01df-e2a9-4b2c-8cc6-fc4b9af2cdce",
   "metadata": {},
   "outputs": [],
   "source": [
    "st = input(\"Enter your string:\")\n",
    "st_upper = st.upper()\n",
    "st_lower = st.lower()\n",
    "st_title = st.title()\n",
    "\n",
    "print(\"A Upper String is: \" + st_upper)\n",
    "print(\"A Lower String is : \" + st_lower)\n",
    "print(\"A Title String is : \" + st_title)"
   ]
  },
  {
   "cell_type": "code",
   "execution_count": null,
   "id": "98e97b62-9325-4274-80fe-98c384875cbc",
   "metadata": {},
   "outputs": [],
   "source": [
    "'''\n",
    "Bài 2. Cho chuỗi biểu diễn địa chỉ email:   \" minhnhutvh@gmail.com\" \n",
    "Rút trích và hiển thị chuỗi \"gmail.com\" (Đây chính là  tên Host)\n",
    "'''"
   ]
  },
  {
   "cell_type": "code",
   "execution_count": null,
   "id": "2208cd36-d314-4927-9fb5-55bc689b501e",
   "metadata": {},
   "outputs": [],
   "source": [
    "data = \"minhnhutvh@gmail.com\"\n",
    "position = data.find(\"@\")               \n",
    "host = data[position +1 :]\n",
    "print(host)\n"
   ]
  },
  {
   "cell_type": "code",
   "execution_count": null,
   "id": "2411f1dd-bada-4dc7-90be-d5b14be8685d",
   "metadata": {},
   "outputs": [],
   "source": [
    "'''\n",
    "Bài 3. Cho chuỗi biểu diễn:  \n",
    "        ‘minhnhutvh@gmai.com Sat Jan 5 09:14:16’\n",
    "Rút trích và hiển thị chuỗi “gmail.com”\n",
    "'''"
   ]
  },
  {
   "cell_type": "code",
   "execution_count": null,
   "id": "c60f43e5-e0ba-4f2f-be62-a3df3ed218a8",
   "metadata": {},
   "outputs": [],
   "source": [
    "data = \"minhnhutvh@gmail.com Sat Jan 5 09:14:16\"\n",
    "Start_position = data.find(\"@\")                #  10\n",
    "End_position = data.find(\" \", Start_position)  #  26\n",
    "host = data[Start_position +1 : End_position]\n",
    "print(host)\n"
   ]
  },
  {
   "cell_type": "code",
   "execution_count": null,
   "id": "4a1b2728-50bc-488b-9e8d-db3b27daf173",
   "metadata": {},
   "outputs": [],
   "source": [
    "''' Những bài thực hành còn lại. Sinh viên tự làm'''"
   ]
  },
  {
   "cell_type": "code",
   "execution_count": null,
   "id": "7a025e0a",
   "metadata": {},
   "outputs": [],
   "source": [
    "# Ex4\n",
    "\n",
    "st1 = input(\"Enter your string: \")\n",
    "st2 = input(\" Enter the word that needs to replace: \")\n",
    "st3 = input(\" Enter the word after being replaced: \")\n",
    "\n",
    "st1 = st1.replace(st2, st3)\n",
    "print(st1)"
   ]
  },
  {
   "cell_type": "code",
   "execution_count": null,
   "id": "57c73769",
   "metadata": {},
   "outputs": [],
   "source": [
    "# Ex5\n",
    "\n",
    "st = input(\"Enter your string: \")\n",
    "First_five_characters = st[:5]\n",
    "Last_five_characters = st[len(st) - 5 :]\n",
    "Str_1_line = 4 * (st + \" \")\n",
    "Str_4_line = 4 * (st + \"\\n\")\n",
    "\n",
    "print(\"First five characters are: \" + First_five_characters)\n",
    "print(\"Last five characters are: \" + Last_five_characters)\n",
    "print(\"Four strings of one line are: \" + Str_1_line)\n",
    "print(\"Four strings of four line are: \\n\" + Str_4_line)"
   ]
  },
  {
   "cell_type": "code",
   "execution_count": 4,
   "id": "e2b44b2a",
   "metadata": {},
   "outputs": [
    {
     "name": "stdout",
     "output_type": "stream",
     "text": [
      "V(r=3.0, h=5.0) = 141.3716694115407\n"
     ]
    }
   ],
   "source": [
    "# Ex6\n",
    "\n",
    "from math import pi, pow\n",
    "from utils.formatInput import floatInput\n",
    "\n",
    "r, h = floatInput(\"Enter r:\"), floatInput(\"Enter h:\")\n",
    "V = pi * pow(r, 2) * h\n",
    "\n",
    "print(f\"V(r={r}, h={h}) =\", V)"
   ]
  },
  {
   "cell_type": "code",
   "execution_count": null,
   "id": "c062baa1",
   "metadata": {},
   "outputs": [
    {
     "name": "stdout",
     "output_type": "stream",
     "text": [
      "edge_greater_then_zero:  True\n",
      "angle_in_valid_range:  True\n",
      "total_angle_is_180:  True \n",
      "\n",
      "triangleS(edge_1=2.0, edge_2=2.0, mid_angle=1.0471975512) = 1.7320508075722796\n",
      "triangleS(edge_1=2.0, edge_2=2.0, mid_angle=1.0471975512) = 1.7320508075722796\n",
      "triangleS(edge_1=2.0, edge_2=2.0, mid_angle=1.0471975512) = 1.7320508075722796\n"
     ]
    },
    {
     "data": {
      "text/plain": [
       "1.7320508075722796"
      ]
     },
     "execution_count": 16,
     "metadata": {},
     "output_type": "execute_result"
    }
   ],
   "source": [
    "# Ex7\n",
    "\n",
    "from math import sin, degrees, pi\n",
    "from utils.formatInput import floatInput as fI\n",
    "\n",
    "\n",
    "def isValidTriangle(\n",
    "    edge_a: float,\n",
    "    edge_b: float,\n",
    "    edge_c: float,\n",
    "    angle_A: float,\n",
    "    angle_B: float,\n",
    "    angle_C: float,\n",
    "):\n",
    "    edge_greater_then_zero = edge_a > 0 and edge_b > 0 and edge_c > 0\n",
    "    print(\"edge_greater_then_zero: \", edge_greater_then_zero)\n",
    "\n",
    "    angle_in_valid_range = 0 < angle_A < pi and 0 < angle_B < pi and 0 < angle_C < pi\n",
    "    print(\"angle_in_valid_range: \", angle_in_valid_range)\n",
    "\n",
    "    # góc input đơn vị rad, dùng degrees thành float có thể bị lệch khi so trực tiếp với 180, so sánh hiệu với float nhỏ\n",
    "    total_angle_is_180 = (\n",
    "        abs(degrees(angle_A) + degrees(angle_B) + degrees(angle_C) - 180) < 0.0000001\n",
    "    )\n",
    "    print(\"total_angle_is_180: \", total_angle_is_180, '\\n')\n",
    "\n",
    "    return edge_greater_then_zero and angle_in_valid_range and total_angle_is_180\n",
    "\n",
    "\n",
    "def triangleS(edge_1: float, edge_2: float, mid_angle: float):\n",
    "    result = 1 / 2 * edge_1 * edge_2 * sin(mid_angle)\n",
    "    print(\n",
    "        f\"triangleS(edge_1={edge_1}, edge_2={edge_2}, mid_angle={mid_angle}) =\", result\n",
    "    )\n",
    "    return result\n",
    "\n",
    "\n",
    "\"\"\"\n",
    "Test\n",
    "a: 2\n",
    "b: 2\n",
    "c: 2\n",
    "A: 1.0471975512\n",
    "B: 1.0471975512\n",
    "C: 1.0471975512\n",
    "\"\"\"\n",
    "edge_a, edge_b, edge_c = fI(\"edge a:\"), fI(\"edge b:\"), fI(\"edge c:\")\n",
    "angle_A, angle_B, angle_C = fI(\"angle A (rad):\"), fI(\"angle B (rad):\"), fI(\"angle C (rad):\")\n",
    "\n",
    "if not isValidTriangle(edge_a, edge_b, edge_c, angle_A, angle_B, angle_C):\n",
    "    raise ValueError(\"Invalid triangle\")\n",
    "\n",
    "triangleS(edge_a, edge_b, angle_C)\n",
    "triangleS(edge_a, edge_c, angle_B)\n",
    "triangleS(edge_b, edge_c, angle_A)"
   ]
  },
  {
   "cell_type": "code",
   "execution_count": null,
   "id": "2d0410a2",
   "metadata": {},
   "outputs": [
    {
     "name": "stdout",
     "output_type": "stream",
     "text": [
      "equilateralTriangleS(2.0) = 1.7320508075688772\n"
     ]
    }
   ],
   "source": [
    "# Ex8\n",
    "\n",
    "from math import sqrt\n",
    "from utils.formatInput import floatInput\n",
    "\n",
    "def equilateralTriangleS(a: float):\n",
    "    if (a < 0): raise ValueError('Require positive values')\n",
    "    return a ** 2 * (sqrt(3) / 4)\n",
    "\n",
    "edge_c = floatInput('Enter edge length:')\n",
    "print(f'equilateralTriangleS({edge_c}) =', equilateralTriangleS(edge_c))\n"
   ]
  },
  {
   "cell_type": "markdown",
   "id": "849b83dd",
   "metadata": {},
   "source": [
    "# Ex9\n",
    "\n",
    "- Run Ex7 with:\n",
    "\n",
    "```\n",
    "a: 2\n",
    "b: 2\n",
    "c: 2\n",
    "A: 1.0471975512\n",
    "B: 1.0471975512\n",
    "C: 1.0471975512\n",
    "```\n",
    "result: 1.7320508075722796\n",
    "\n",
    "- Run Ex8 with edge = 2:\n",
    "result: 1.7320508075722796\n",
    "\n",
    "-> The results are equal."
   ]
  },
  {
   "cell_type": "code",
   "execution_count": null,
   "id": "91e749fa",
   "metadata": {},
   "outputs": [
    {
     "name": "stdout",
     "output_type": "stream",
     "text": [
      "S_room(width=2.0, height=5.0) = 10.0\n"
     ]
    }
   ],
   "source": [
    "# Ex10\n",
    "\n",
    "from utils.formatInput import floatInput as fI\n",
    "\n",
    "width, height = fI(\"Enter width: \"), fI(\"Enter height: \")\n",
    "\n",
    "if width <= 0 or height <= 0:\n",
    "    raise ValueError(\"Invalid size value\")\n",
    "\n",
    "print(f\"S_room(width={width}, height={height}) =\", width * height)"
   ]
  },
  {
   "cell_type": "code",
   "execution_count": null,
   "id": "fb9091ea",
   "metadata": {},
   "outputs": [
    {
     "name": "stdout",
     "output_type": "stream",
     "text": [
      "S_field(width=10000.0, height=200.0) = 45.91368227731864 (Acre)\n"
     ]
    }
   ],
   "source": [
    "# Ex11\n",
    "\n",
    "from utils.formatInput import floatInput as fI\n",
    "\n",
    "SQUARE_METER_TO_ACRE = 43560\n",
    "\n",
    "width, height = fI(\"Enter width (Unit: m): \"), fI(\"Enter height (Unit: m): \")\n",
    "\n",
    "if width <= 0 or height <= 0:\n",
    "    raise ValueError(\"Invalid size value\")\n",
    "\n",
    "print(f\"S_field(width={width}, height={height}) =\", width * height / 43560, \"(Acre)\")"
   ]
  },
  {
   "cell_type": "code",
   "execution_count": null,
   "id": "0fcdfbc5",
   "metadata": {},
   "outputs": [
    {
     "name": "stdout",
     "output_type": "stream",
     "text": [
      "Food cost: 10101.0\n",
      "-\tTax: 595.96\n",
      "-\tTip: 1818.18\n",
      "-\tTotal meal cost: 12515.14\n"
     ]
    }
   ],
   "source": [
    "# Ex12\n",
    "\n",
    "from utils.formatInput import floatInput\n",
    "\n",
    "TIP_PERCENT = 18 / 100\n",
    "\n",
    "# Không rõ yêu cầu đề, giả sử tiền thuế tính lên cả tiền tip\n",
    "TAX_PERCENT = (1 + TIP_PERCENT) * 5 / 100\n",
    "\n",
    "cost = floatInput(\"Enter meal cost:\")\n",
    "if cost <= 0:\n",
    "    raise ValueError(\"Invalid cost value\")\n",
    "\n",
    "tax = round(cost * TAX_PERCENT, 2)\n",
    "tip = round(cost * TIP_PERCENT, 2)\n",
    "\n",
    "print(\"Food cost:\", cost)\n",
    "print(\"-\\tTax:\", tax)\n",
    "print(\"-\\tTip:\", tip)\n",
    "print(\"-\\tTotal meal cost:\", round(cost + tip + tax, 2))"
   ]
  },
  {
   "cell_type": "code",
   "execution_count": null,
   "id": "06044dc6",
   "metadata": {},
   "outputs": [
    {
     "name": "stdout",
     "output_type": "stream",
     "text": [
      "Sum(1 to 10) = 55\n"
     ]
    }
   ],
   "source": [
    "# Ex13\n",
    "\n",
    "from utils.formatInput import intInput\n",
    "\n",
    "n = intInput(\"Enter n:\")\n",
    "if n <= 0:\n",
    "    raise ValueError(\"Invalid N+ value\")\n",
    "\n",
    "print(f\"Sum(1 to {n}) =\", int((n * (n + 1)) / 2))"
   ]
  },
  {
   "cell_type": "code",
   "execution_count": null,
   "id": "e605e668",
   "metadata": {},
   "outputs": [
    {
     "name": "stdout",
     "output_type": "stream",
     "text": [
      "a = 26, b = 8\n",
      "- Sum = 34\n",
      "- Difference = 18\n",
      "- Product = 208\n",
      "- Division = 3.25\n",
      "- Remainder = 2\n",
      "- log10 = 1.414973347970818\n",
      "- Power = 208827064576\n"
     ]
    }
   ],
   "source": [
    "# Ex14\n",
    "\n",
    "from math import log10\n",
    "from utils.formatInput import intInput\n",
    "\n",
    "a, b = intInput(\"Enter integer a: \"), intInput(\"Enter integer b: \")\n",
    "\n",
    "print(f\"a = {a}, b = {b}\")\n",
    "print(\"- Sum =\", a + b)\n",
    "print(\"- Difference =\", a - b)\n",
    "print(\"- Product =\", a * b)\n",
    "\n",
    "# div/mod 0 not defined\n",
    "if b != 0:\n",
    "    print(\"- Division =\", a / b)\n",
    "    print(\"- Remainder =\", a % b)\n",
    "else:\n",
    "    print(\"- Division and remainder not defined (b is zero)\")\n",
    "\n",
    "# log10(a) valid when a > 0\n",
    "if a > 0:\n",
    "    print(\"- log10 =\", log10(a))\n",
    "else:\n",
    "    print(\"- log10(a) not defined (a <= 0)\")\n",
    "\n",
    "print(\"- Power =\", a**b)"
   ]
  },
  {
   "cell_type": "code",
   "execution_count": 12,
   "id": "82a01a81",
   "metadata": {},
   "outputs": [
    {
     "name": "stdout",
     "output_type": "stream",
     "text": [
      "Q (J) = 3265080.0\n",
      "Cost (cent) = 8.07\n"
     ]
    }
   ],
   "source": [
    "# Ex15\n",
    "\n",
    "from utils.formatInput import floatInput\n",
    "\n",
    "C_WATER = 4.186\n",
    "COST_PER_KWH = 8.9\n",
    "JOULES_TO_KWH = 2.777e-7\n",
    "\n",
    "\n",
    "def calc_Q(m: float, c: float, deltaT: float):\n",
    "    result = m * c * deltaT\n",
    "    if result < 0:\n",
    "        raise Exception(\"Invalid input\")\n",
    "    return result\n",
    "\n",
    "\n",
    "def calc_cost(Q: float):\n",
    "    return Q * JOULES_TO_KWH * COST_PER_KWH\n",
    "\n",
    "\n",
    "m, deltaT = floatInput(\"Enter m (g): \"), floatInput(\"Enter deltaT (Celsius): \")\n",
    "\n",
    "Q = calc_Q(m, C_WATER, deltaT)\n",
    "print(\"Q (J) =\", round(Q, 3))\n",
    "print(\"Cost (cent) =\", round(calc_cost(Q), 3))"
   ]
  },
  {
   "cell_type": "code",
   "execution_count": 18,
   "id": "61b062b2",
   "metadata": {},
   "outputs": [
    {
     "name": "stdout",
     "output_type": "stream",
     "text": [
      "Speed when hits the ground (m/s): 28.0\n"
     ]
    }
   ],
   "source": [
    "# Ex16\n",
    "\n",
    "from utils.formatInput import floatInput\n",
    "from math import sqrt\n",
    "\n",
    "G = 9.8  # m/s^2\n",
    "V_ZERO = 0  # m/s\n",
    "\n",
    "\n",
    "def calc_free_fall_v(h: float, v_zero: float = V_ZERO):\n",
    "    return sqrt(v_zero**2 + 2 * G * h)\n",
    "\n",
    "\n",
    "print(\"Speed when hits the ground (m/s):\", calc_free_fall_v(floatInput(\"Enter height (m):\")))"
   ]
  },
  {
   "cell_type": "code",
   "execution_count": null,
   "id": "8744aa51",
   "metadata": {},
   "outputs": [],
   "source": [
    "# Ex17\n",
    "\n",
    "from utils.formatInput import floatInput\n",
    "\n",
    "\n",
    "def calc_WCI(temp_c: float, wind_speed_kmh: float) -> int:\n",
    "    wci = (\n",
    "        13.12\n",
    "        + 0.6215 * temp_c\n",
    "        - 11.37 * (wind_speed_kmh**0.16)\n",
    "        + 0.3965 * temp_c * (wind_speed_kmh**0.16)\n",
    "    )\n",
    "    return round(wci)\n",
    "\n",
    "\n",
    "# Nhập dữ liệu\n",
    "Ta = floatInput(\"Enter air temperature (Celsius): \")\n",
    "V = floatInput(\"Enter wind speed V (km/h): \")\n",
    "\n",
    "# Tính WCI\n",
    "WCI = calc_WCI(Ta, V)\n",
    "\n",
    "print(f\"Wind Chill Index (Ta={Ta}°C, V={V} km/h) = {WCI}\")"
   ]
  }
 ],
 "metadata": {
  "kernelspec": {
   "display_name": "Python 3",
   "language": "python",
   "name": "python3"
  },
  "language_info": {
   "codemirror_mode": {
    "name": "ipython",
    "version": 3
   },
   "file_extension": ".py",
   "mimetype": "text/x-python",
   "name": "python",
   "nbconvert_exporter": "python",
   "pygments_lexer": "ipython3",
   "version": "3.11.5"
  }
 },
 "nbformat": 4,
 "nbformat_minor": 5
}
