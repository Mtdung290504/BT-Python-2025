{
 "cells": [
  {
   "cell_type": "markdown",
   "id": "57fea367",
   "metadata": {},
   "source": [
    "## Chapter 2 - Part 1\n"
   ]
  },
  {
   "cell_type": "code",
   "execution_count": 13,
   "id": "35935ade-a37e-4128-8499-a9f262699fb4",
   "metadata": {},
   "outputs": [
    {
     "data": {
      "text/plain": [
       "'\\nBài 1. Viết chương trình nhập vào một chuỗi\\nXuất ra màn hình chuỗi ký tự hoa\\nXuất ra màn hình chuỗi ký tự có ký tự đầu là ký tự hoa\\nXuất ra màn hình chuỗi ký tự thường\\n'"
      ]
     },
     "execution_count": 13,
     "metadata": {},
     "output_type": "execute_result"
    }
   ],
   "source": [
    "\"\"\"\n",
    "Bài 1. Viết chương trình nhập vào một chuỗi\n",
    "Xuất ra màn hình chuỗi ký tự hoa\n",
    "Xuất ra màn hình chuỗi ký tự có ký tự đầu là ký tự hoa\n",
    "Xuất ra màn hình chuỗi ký tự thường\n",
    "\"\"\""
   ]
  },
  {
   "cell_type": "code",
   "execution_count": 14,
   "id": "9d2f01df-e2a9-4b2c-8cc6-fc4b9af2cdce",
   "metadata": {},
   "outputs": [
    {
     "name": "stdout",
     "output_type": "stream",
     "text": [
      "A Upper String is: \n",
      "A Lower String is : \n",
      "A Title String is : \n"
     ]
    }
   ],
   "source": [
    "st = input(\"Enter your string:\")\n",
    "st_upper = st.upper()\n",
    "st_lower = st.lower()\n",
    "st_title = st.title()\n",
    "\n",
    "print(\"A Upper String is: \" + st_upper)\n",
    "print(\"A Lower String is : \" + st_lower)\n",
    "print(\"A Title String is : \" + st_title)"
   ]
  },
  {
   "cell_type": "code",
   "execution_count": 15,
   "id": "98e97b62-9325-4274-80fe-98c384875cbc",
   "metadata": {},
   "outputs": [
    {
     "data": {
      "text/plain": [
       "'\\nBài 2. Cho chuỗi biểu diễn địa chỉ email:   \" minhnhutvh@gmail.com\"\\nRút trích và hiển thị chuỗi \"gmail.com\" (Đây chính là  tên Host)\\n'"
      ]
     },
     "execution_count": 15,
     "metadata": {},
     "output_type": "execute_result"
    }
   ],
   "source": [
    "\"\"\"\n",
    "Bài 2. Cho chuỗi biểu diễn địa chỉ email:   \" minhnhutvh@gmail.com\"\n",
    "Rút trích và hiển thị chuỗi \"gmail.com\" (Đây chính là  tên Host)\n",
    "\"\"\""
   ]
  },
  {
   "cell_type": "code",
   "execution_count": 16,
   "id": "2208cd36-d314-4927-9fb5-55bc689b501e",
   "metadata": {},
   "outputs": [
    {
     "name": "stdout",
     "output_type": "stream",
     "text": [
      "gmail.com\n"
     ]
    }
   ],
   "source": [
    "data = \"minhnhutvh@gmail.com\"\n",
    "position = data.find(\"@\")\n",
    "host = data[position + 1 :]\n",
    "print(host)"
   ]
  },
  {
   "cell_type": "code",
   "execution_count": 17,
   "id": "2411f1dd-bada-4dc7-90be-d5b14be8685d",
   "metadata": {},
   "outputs": [
    {
     "data": {
      "text/plain": [
       "'\\nBài 3. Cho chuỗi biểu diễn:\\n        ‘minhnhutvh@gmai.com Sat Jan 5 09:14:16’\\nRút trích và hiển thị chuỗi “gmail.com”\\n'"
      ]
     },
     "execution_count": 17,
     "metadata": {},
     "output_type": "execute_result"
    }
   ],
   "source": [
    "\"\"\"\n",
    "Bài 3. Cho chuỗi biểu diễn:\n",
    "        ‘minhnhutvh@gmai.com Sat Jan 5 09:14:16’\n",
    "Rút trích và hiển thị chuỗi “gmail.com”\n",
    "\"\"\""
   ]
  },
  {
   "cell_type": "code",
   "execution_count": 18,
   "id": "c60f43e5-e0ba-4f2f-be62-a3df3ed218a8",
   "metadata": {},
   "outputs": [
    {
     "name": "stdout",
     "output_type": "stream",
     "text": [
      "gmail.com\n"
     ]
    }
   ],
   "source": [
    "data = \"minhnhutvh@gmail.com Sat Jan 5 09:14:16\"\n",
    "Start_position = data.find(\"@\")  #  10\n",
    "End_position = data.find(\" \", Start_position)  #  26\n",
    "host = data[Start_position + 1 : End_position]\n",
    "print(host)"
   ]
  },
  {
   "cell_type": "code",
   "execution_count": 19,
   "id": "4a1b2728-50bc-488b-9e8d-db3b27daf173",
   "metadata": {},
   "outputs": [
    {
     "data": {
      "text/plain": [
       "'Những bài thực hành còn lại. Sinh viên tự làm'"
      ]
     },
     "execution_count": 19,
     "metadata": {},
     "output_type": "execute_result"
    }
   ],
   "source": [
    "\"\"\"Những bài thực hành còn lại. Sinh viên tự làm\"\"\""
   ]
  },
  {
   "cell_type": "code",
   "execution_count": 20,
   "id": "7a025e0a",
   "metadata": {},
   "outputs": [
    {
     "name": "stdout",
     "output_type": "stream",
     "text": [
      "\n"
     ]
    }
   ],
   "source": [
    "# Ex4\n",
    "\n",
    "st1 = input(\"Enter your string: \")\n",
    "st2 = input(\" Enter the word that needs to replace: \")\n",
    "st3 = input(\" Enter the word after being replaced: \")\n",
    "\n",
    "st1 = st1.replace(st2, st3)\n",
    "print(st1)"
   ]
  },
  {
   "cell_type": "code",
   "execution_count": 21,
   "id": "57c73769",
   "metadata": {},
   "outputs": [
    {
     "name": "stdout",
     "output_type": "stream",
     "text": [
      "First five characters are: \n",
      "Last five characters are: \n",
      "Four strings of one line are:     \n",
      "Four strings of four line are: \n",
      "\n",
      "\n",
      "\n",
      "\n",
      "\n"
     ]
    }
   ],
   "source": [
    "# Ex5\n",
    "\n",
    "st = input(\"Enter your string: \")\n",
    "First_five_characters = st[:5]\n",
    "Last_five_characters = st[len(st) - 5 :]\n",
    "Str_1_line = 4 * (st + \" \")\n",
    "Str_4_line = 4 * (st + \"\\n\")\n",
    "\n",
    "print(\"First five characters are: \" + First_five_characters)\n",
    "print(\"Last five characters are: \" + Last_five_characters)\n",
    "print(\"Four strings of one line are: \" + Str_1_line)\n",
    "print(\"Four strings of four line are: \\n\" + Str_4_line)"
   ]
  },
  {
   "cell_type": "code",
   "execution_count": 23,
   "id": "e2b44b2a",
   "metadata": {},
   "outputs": [
    {
     "name": "stdout",
     "output_type": "stream",
     "text": [
      "V(r=10.0, h=12.0) = 3769.9111843077517\n"
     ]
    }
   ],
   "source": [
    "# Ex6\n",
    "\n",
    "from math import pi, pow\n",
    "from utils.formatInput import floatInput\n",
    "\n",
    "r, h = floatInput(\"Enter r:\"), floatInput(\"Enter h:\")\n",
    "V = pi * pow(r, 2) * h\n",
    "\n",
    "print(f\"V(r={r}, h={h}) =\", V)"
   ]
  },
  {
   "cell_type": "code",
   "execution_count": 24,
   "id": "c062baa1",
   "metadata": {},
   "outputs": [
    {
     "name": "stdout",
     "output_type": "stream",
     "text": [
      "edge_greater_then_zero:  True\n",
      "angle_in_valid_range:  True\n",
      "total_angle_is_180:  True \n",
      "\n",
      "triangleS(edge_1=2.0, edge_2=2.0, mid_angle=1.0471975512) = 1.7320508075722796\n",
      "triangleS(edge_1=2.0, edge_2=2.0, mid_angle=1.0471975512) = 1.7320508075722796\n",
      "triangleS(edge_1=2.0, edge_2=2.0, mid_angle=1.0471975512) = 1.7320508075722796\n"
     ]
    },
    {
     "data": {
      "text/plain": [
       "1.7320508075722796"
      ]
     },
     "execution_count": 24,
     "metadata": {},
     "output_type": "execute_result"
    }
   ],
   "source": [
    "# Ex7\n",
    "\n",
    "from math import sin, degrees, pi\n",
    "from utils.formatInput import floatInput as fI\n",
    "\n",
    "\n",
    "def isValidTriangle(\n",
    "    edge_a: float,\n",
    "    edge_b: float,\n",
    "    edge_c: float,\n",
    "    angle_A: float,\n",
    "    angle_B: float,\n",
    "    angle_C: float,\n",
    "):\n",
    "    edge_greater_then_zero = edge_a > 0 and edge_b > 0 and edge_c > 0\n",
    "    print(\"edge_greater_then_zero: \", edge_greater_then_zero)\n",
    "\n",
    "    angle_in_valid_range = 0 < angle_A < pi and 0 < angle_B < pi and 0 < angle_C < pi\n",
    "    print(\"angle_in_valid_range: \", angle_in_valid_range)\n",
    "\n",
    "    # góc input đơn vị rad, dùng degrees thành float có thể bị lệch khi so trực tiếp với 180, so sánh hiệu với float nhỏ\n",
    "    total_angle_is_180 = (\n",
    "        abs(degrees(angle_A) + degrees(angle_B) + degrees(angle_C) - 180) < 0.0000001\n",
    "    )\n",
    "    print(\"total_angle_is_180: \", total_angle_is_180, \"\\n\")\n",
    "\n",
    "    return edge_greater_then_zero and angle_in_valid_range and total_angle_is_180\n",
    "\n",
    "\n",
    "def triangleS(edge_1: float, edge_2: float, mid_angle: float):\n",
    "    result = 1 / 2 * edge_1 * edge_2 * sin(mid_angle)\n",
    "    print(\n",
    "        f\"triangleS(edge_1={edge_1}, edge_2={edge_2}, mid_angle={mid_angle}) =\", result\n",
    "    )\n",
    "    return result\n",
    "\n",
    "\n",
    "\"\"\"\n",
    "Test\n",
    "a: 2\n",
    "b: 2\n",
    "c: 2\n",
    "A: 1.0471975512\n",
    "B: 1.0471975512\n",
    "C: 1.0471975512\n",
    "\"\"\"\n",
    "edge_a, edge_b, edge_c = fI(\"edge a:\"), fI(\"edge b:\"), fI(\"edge c:\")\n",
    "angle_A, angle_B, angle_C = (\n",
    "    fI(\"angle A (rad):\"),\n",
    "    fI(\"angle B (rad):\"),\n",
    "    fI(\"angle C (rad):\"),\n",
    ")\n",
    "\n",
    "if not isValidTriangle(edge_a, edge_b, edge_c, angle_A, angle_B, angle_C):\n",
    "    raise ValueError(\"Invalid triangle\")\n",
    "\n",
    "triangleS(edge_a, edge_b, angle_C)\n",
    "triangleS(edge_a, edge_c, angle_B)\n",
    "triangleS(edge_b, edge_c, angle_A)"
   ]
  },
  {
   "cell_type": "code",
   "execution_count": 25,
   "id": "2d0410a2",
   "metadata": {},
   "outputs": [
    {
     "name": "stdout",
     "output_type": "stream",
     "text": [
      "equilateralTriangleS(2.0) = 1.7320508075688772\n"
     ]
    }
   ],
   "source": [
    "# Ex8\n",
    "\n",
    "from math import sqrt\n",
    "from utils.formatInput import floatInput\n",
    "\n",
    "\n",
    "def equilateralTriangleS(a: float):\n",
    "    if a < 0:\n",
    "        raise ValueError(\"Require positive values\")\n",
    "    return a**2 * (sqrt(3) / 4)\n",
    "\n",
    "\n",
    "edge_c = floatInput(\"Enter edge length:\")\n",
    "print(f\"equilateralTriangleS({edge_c}) =\", equilateralTriangleS(edge_c))"
   ]
  },
  {
   "cell_type": "markdown",
   "id": "849b83dd",
   "metadata": {},
   "source": [
    "# Ex9\n",
    "\n",
    "- Run Ex7 with:\n",
    "\n",
    "```\n",
    "a: 2\n",
    "b: 2\n",
    "c: 2\n",
    "A: 1.0471975512\n",
    "B: 1.0471975512\n",
    "C: 1.0471975512\n",
    "```\n",
    "\n",
    "result: 1.7320508075722796\n",
    "\n",
    "- Run Ex8 with edge = 2:\n",
    "  result: 1.7320508075722796\n",
    "\n",
    "-> The results are equal.\n"
   ]
  },
  {
   "cell_type": "code",
   "execution_count": 26,
   "id": "91e749fa",
   "metadata": {},
   "outputs": [
    {
     "name": "stdout",
     "output_type": "stream",
     "text": [
      "S_room(width=10.0, height=10.0) = 100.0\n"
     ]
    }
   ],
   "source": [
    "# Ex10\n",
    "\n",
    "from utils.formatInput import floatInput as fI\n",
    "\n",
    "width, height = fI(\"Enter width: \"), fI(\"Enter height: \")\n",
    "\n",
    "if width <= 0 or height <= 0:\n",
    "    raise ValueError(\"Invalid size value\")\n",
    "\n",
    "print(f\"S_room(width={width}, height={height}) =\", width * height)"
   ]
  },
  {
   "cell_type": "code",
   "execution_count": 27,
   "id": "fb9091ea",
   "metadata": {},
   "outputs": [
    {
     "name": "stdout",
     "output_type": "stream",
     "text": [
      "S_field(width=100.0, height=220.0) = 0.5050505050505051 (Acre)\n"
     ]
    }
   ],
   "source": [
    "# Ex11\n",
    "\n",
    "from utils.formatInput import floatInput as fI\n",
    "\n",
    "SQUARE_METER_TO_ACRE = 43560\n",
    "\n",
    "width, height = fI(\"Enter width (Unit: m): \"), fI(\"Enter height (Unit: m): \")\n",
    "\n",
    "if width <= 0 or height <= 0:\n",
    "    raise ValueError(\"Invalid size value\")\n",
    "\n",
    "print(f\"S_field(width={width}, height={height}) =\", width * height / 43560, \"(Acre)\")"
   ]
  },
  {
   "cell_type": "code",
   "execution_count": 28,
   "id": "0fcdfbc5",
   "metadata": {},
   "outputs": [
    {
     "name": "stdout",
     "output_type": "stream",
     "text": [
      "Food cost: 10.0\n",
      "-\tTax: 0.59\n",
      "-\tTip: 1.8\n",
      "-\tTotal meal cost: 12.39\n"
     ]
    }
   ],
   "source": [
    "# Ex12\n",
    "\n",
    "from utils.formatInput import floatInput\n",
    "\n",
    "TIP_PERCENT = 18 / 100\n",
    "\n",
    "# Không rõ yêu cầu đề, giả sử tiền thuế tính lên cả tiền tip\n",
    "TAX_PERCENT = (1 + TIP_PERCENT) * 5 / 100\n",
    "\n",
    "cost = floatInput(\"Enter meal cost:\")\n",
    "if cost <= 0:\n",
    "    raise ValueError(\"Invalid cost value\")\n",
    "\n",
    "tax = round(cost * TAX_PERCENT, 2)\n",
    "tip = round(cost * TIP_PERCENT, 2)\n",
    "\n",
    "print(\"Food cost:\", cost)\n",
    "print(\"-\\tTax:\", tax)\n",
    "print(\"-\\tTip:\", tip)\n",
    "print(\"-\\tTotal meal cost:\", round(cost + tip + tax, 2))"
   ]
  },
  {
   "cell_type": "code",
   "execution_count": null,
   "id": "06044dc6",
   "metadata": {},
   "outputs": [
    {
     "name": "stdout",
     "output_type": "stream",
     "text": [
      "Sum(1 to 10) = 55\n"
     ]
    }
   ],
   "source": [
    "# Ex13\n",
    "\n",
    "from utils.formatInput import intInput\n",
    "\n",
    "decimal = intInput(\"Enter n:\")\n",
    "if decimal <= 0:\n",
    "    raise ValueError(\"Invalid N+ value\")\n",
    "\n",
    "print(f\"Sum(1 to {decimal}) =\", int((decimal * (decimal + 1)) / 2))"
   ]
  },
  {
   "cell_type": "code",
   "execution_count": 30,
   "id": "e605e668",
   "metadata": {},
   "outputs": [
    {
     "name": "stdout",
     "output_type": "stream",
     "text": [
      "a = 25, b = 4\n",
      "- Sum = 29\n",
      "- Difference = 21\n",
      "- Product = 100\n",
      "- Division = 6.25\n",
      "- Remainder = 1\n",
      "- log10 = 1.3979400086720377\n",
      "- Power = 390625\n"
     ]
    }
   ],
   "source": [
    "# Ex14\n",
    "\n",
    "from math import log10\n",
    "from utils.formatInput import intInput\n",
    "\n",
    "a, b = intInput(\"Enter integer a: \"), intInput(\"Enter integer b: \")\n",
    "\n",
    "print(f\"a = {a}, b = {b}\")\n",
    "print(\"- Sum =\", a + b)\n",
    "print(\"- Difference =\", a - b)\n",
    "print(\"- Product =\", a * b)\n",
    "\n",
    "# div/mod 0 not defined\n",
    "if b != 0:\n",
    "    print(\"- Division =\", a / b)\n",
    "    print(\"- Remainder =\", a % b)\n",
    "else:\n",
    "    print(\"- Division and remainder not defined (b is zero)\")\n",
    "\n",
    "# log10(a) valid when a > 0\n",
    "if a > 0:\n",
    "    print(\"- log10 =\", log10(a))\n",
    "else:\n",
    "    print(\"- log10(a) not defined (a <= 0)\")\n",
    "\n",
    "print(\"- Power =\", a**b)"
   ]
  },
  {
   "cell_type": "code",
   "execution_count": 31,
   "id": "82a01a81",
   "metadata": {},
   "outputs": [
    {
     "name": "stdout",
     "output_type": "stream",
     "text": [
      "Q (J) = 627900.0\n",
      "Cost (cent) = 1.552\n"
     ]
    }
   ],
   "source": [
    "# Ex15\n",
    "\n",
    "from utils.formatInput import floatInput\n",
    "\n",
    "C_WATER = 4.186\n",
    "COST_PER_KWH = 8.9\n",
    "JOULES_TO_KWH = 2.777e-7\n",
    "\n",
    "\n",
    "def calc_Q(m: float, c: float, deltaT: float):\n",
    "    result = m * c * deltaT\n",
    "    if result < 0:\n",
    "        raise Exception(\"Invalid input\")\n",
    "    return result\n",
    "\n",
    "\n",
    "def calc_cost(Q: float):\n",
    "    return Q * JOULES_TO_KWH * COST_PER_KWH\n",
    "\n",
    "\n",
    "m, deltaT = floatInput(\"Enter m (g): \"), floatInput(\"Enter deltaT (Celsius): \")\n",
    "\n",
    "Q = calc_Q(m, C_WATER, deltaT)\n",
    "print(\"Q (J) =\", round(Q, 3))\n",
    "print(\"Cost (cent) =\", round(calc_cost(Q), 3))"
   ]
  },
  {
   "cell_type": "code",
   "execution_count": 32,
   "id": "61b062b2",
   "metadata": {},
   "outputs": [
    {
     "name": "stdout",
     "output_type": "stream",
     "text": [
      "Speed when hits the ground (m/s): 44.271887242357316\n"
     ]
    }
   ],
   "source": [
    "# Ex16\n",
    "\n",
    "from utils.formatInput import floatInput\n",
    "from math import sqrt\n",
    "\n",
    "G = 9.8  # m/s^2\n",
    "V_ZERO = 0  # m/s\n",
    "\n",
    "\n",
    "def calc_free_fall_v(h: float, v_zero: float = V_ZERO):\n",
    "    return sqrt(v_zero**2 + 2 * G * h)\n",
    "\n",
    "\n",
    "print(\n",
    "    \"Speed when hits the ground (m/s):\",\n",
    "    calc_free_fall_v(floatInput(\"Enter height (m):\")),\n",
    ")"
   ]
  },
  {
   "cell_type": "code",
   "execution_count": 33,
   "id": "8744aa51",
   "metadata": {},
   "outputs": [
    {
     "name": "stdout",
     "output_type": "stream",
     "text": [
      "Wind Chill Index (Ta=30.0°C, V=40.0 km/h) = 33\n"
     ]
    }
   ],
   "source": [
    "# Ex17\n",
    "\n",
    "from utils.formatInput import floatInput\n",
    "\n",
    "\n",
    "def calc_WCI(temp_c: float, wind_speed_kmh: float) -> int:\n",
    "    wci = (\n",
    "        13.12\n",
    "        + 0.6215 * temp_c\n",
    "        - 11.37 * (wind_speed_kmh**0.16)\n",
    "        + 0.3965 * temp_c * (wind_speed_kmh**0.16)\n",
    "    )\n",
    "    return round(wci)\n",
    "\n",
    "\n",
    "# Nhập dữ liệu\n",
    "Ta = floatInput(\"Enter air temperature (Celsius): \")\n",
    "V = floatInput(\"Enter wind speed V (km/h): \")\n",
    "\n",
    "# Tính WCI\n",
    "WCI = calc_WCI(Ta, V)\n",
    "\n",
    "print(f\"Wind Chill Index (Ta={Ta}°C, V={V} km/h) = {WCI}\")"
   ]
  },
  {
   "cell_type": "markdown",
   "id": "7501ff2b",
   "metadata": {},
   "source": [
    "## Chapter 2 - Part 2\n"
   ]
  },
  {
   "cell_type": "code",
   "execution_count": 34,
   "id": "ab66be82",
   "metadata": {},
   "outputs": [
    {
     "name": "stdout",
     "output_type": "stream",
     "text": [
      " This is an odd number!\n"
     ]
    }
   ],
   "source": [
    "# Ex1\n",
    "\n",
    "number = input(\" Enter your positive integer: \")\n",
    "\n",
    "if int(number) % 2 == 0:\n",
    "    print(\" This is an even number!\")\n",
    "else:\n",
    "    print(\" This is an odd number!\")"
   ]
  },
  {
   "cell_type": "code",
   "execution_count": 35,
   "id": "b00f4224",
   "metadata": {},
   "outputs": [
    {
     "name": "stdout",
     "output_type": "stream",
     "text": [
      " This string contains upper and lower characters \n"
     ]
    }
   ],
   "source": [
    "# Ex2\n",
    "\n",
    "st = input(\"Enter your string: \")\n",
    "\n",
    "if st.isupper():\n",
    "    print(\"This is an upper string\")\n",
    "elif st.islower():\n",
    "    print(\"This is an lower string\")\n",
    "else:\n",
    "    print(\" This string contains upper and lower characters \")"
   ]
  },
  {
   "cell_type": "code",
   "execution_count": 36,
   "id": "dc7085b8",
   "metadata": {},
   "outputs": [
    {
     "name": "stdout",
     "output_type": "stream",
     "text": [
      " A search string was found, at location: 3\n"
     ]
    }
   ],
   "source": [
    "# Ex3\n",
    "\n",
    "st = input(\"Enter your string: \")\n",
    "st_search = input(\" Enter a searching string :\")\n",
    "\n",
    "if st_search in st:\n",
    "    print(\" A search string was found, at location:\", str(st.find(st_search)))\n",
    "else:\n",
    "    print(\"Not Found\")"
   ]
  },
  {
   "cell_type": "code",
   "execution_count": 37,
   "id": "8ff75e6b",
   "metadata": {},
   "outputs": [
    {
     "name": "stdout",
     "output_type": "stream",
     "text": [
      "The largest number between 1.0 , -80.0 and -1.0 is 1.0\n"
     ]
    }
   ],
   "source": [
    "# Ex4\n",
    "\n",
    "from utils.formatInput import floatInput\n",
    "\n",
    "num1 = floatInput(\"Enter first number: \")\n",
    "num2 = floatInput(\"Enter second number: \")\n",
    "num3 = floatInput(\"Enter third number: \")\n",
    "\n",
    "if (num1 >= num2) and (num1 >= num3):\n",
    "    largest = num1\n",
    "elif (num2 >= num1) and (num2 >= num3):\n",
    "    largest = num2\n",
    "else:\n",
    "    largest = num3\n",
    "\n",
    "print(\"The largest number between\", num1, \",\", num2, \"and\", num3, \"is\", largest)"
   ]
  },
  {
   "cell_type": "code",
   "execution_count": null,
   "id": "8da8d500",
   "metadata": {},
   "outputs": [
    {
     "name": "stdout",
     "output_type": "stream",
     "text": [
      "7.980122655122655\n"
     ]
    }
   ],
   "source": [
    "# Ex5\n",
    "from utils.formatInput import intInput\n",
    "\n",
    "decimal = intInput(\" Enter an integer greater than 0 : \")\n",
    "assert decimal > 0, \"Invalid input\"\n",
    "\n",
    "sum = 0.0\n",
    "\n",
    "for num in range(1, decimal + 1):\n",
    "    sum += float(float(num) / (num + 1))\n",
    "\n",
    "print(sum)"
   ]
  },
  {
   "cell_type": "code",
   "execution_count": 39,
   "id": "cf9fdcf3",
   "metadata": {},
   "outputs": [
    {
     "name": "stdout",
     "output_type": "stream",
     "text": [
      "Sum of Upper Character: 3\n",
      "Sum of Lower Character: 4\n"
     ]
    }
   ],
   "source": [
    "# Ex6\n",
    "st = input(\"Enter your sentence: \")\n",
    "\n",
    "Sum_upper_Char = 0\n",
    "Sum_lower_Char = 0\n",
    "\n",
    "for c in st:\n",
    "    if c.isupper():\n",
    "        Sum_upper_Char += 1\n",
    "    elif c.islower():\n",
    "        Sum_lower_Char += 1\n",
    "    else:\n",
    "        pass\n",
    "\n",
    "print(\"Sum of Upper Character:\", Sum_upper_Char)\n",
    "print(\"Sum of Lower Character:\", Sum_lower_Char)"
   ]
  },
  {
   "cell_type": "code",
   "execution_count": 41,
   "id": "f7009f82",
   "metadata": {},
   "outputs": [
    {
     "name": "stdout",
     "output_type": "stream",
     "text": [
      "153 is Amstrong, level : 3\n"
     ]
    }
   ],
   "source": [
    "# Ex7\n",
    "from utils.formatInput import intInput\n",
    "\n",
    "num = intInput(\"Enter a number: \")\n",
    "level = intInput(\"Bậc: \")\n",
    "sum = 0\n",
    "temp = num\n",
    "\n",
    "while temp > 0:\n",
    "    digit = temp % 10\n",
    "    sum += digit**level\n",
    "    temp //= 10\n",
    "\n",
    "if num == sum:\n",
    "    print(num, \"is Amstrong, level : \" + str(level))\n",
    "else:\n",
    "    print(num, \"is not Amstrong\")"
   ]
  },
  {
   "cell_type": "code",
   "execution_count": 42,
   "id": "39e6c618",
   "metadata": {},
   "outputs": [
    {
     "name": "stdout",
     "output_type": "stream",
     "text": [
      "Hello he said and went\n"
     ]
    }
   ],
   "source": [
    "# Ex 8\n",
    "\n",
    "# Định nghĩa chuỗi các ký tự cần loại bỏ\n",
    "st1 = \"\"\"!()-[]{};:\"\"\\,<>./?@#$%^&*_~\"\"\"\n",
    "my_str = \"Hello!!!, he said ---and went{.\"\n",
    "\n",
    "# Loại bỏ ký tự cần loại bỏ\n",
    "st2 = \"\"\n",
    "for char in my_str:\n",
    "    if char not in st1:\n",
    "        st2 = st2 + char\n",
    "\n",
    "# Hiển thị chuỗi sau khi loại bỏ\n",
    "print(st2)"
   ]
  },
  {
   "cell_type": "code",
   "execution_count": 43,
   "id": "e2cc8735",
   "metadata": {},
   "outputs": [
    {
     "name": "stdout",
     "output_type": "stream",
     "text": [
      "Các từ đã được tách và sắp xếp theo Alphabe\n",
      "Example\n",
      "Hello\n",
      "Is\n",
      "With\n",
      "an\n",
      "cased\n",
      "letters\n",
      "this\n"
     ]
    }
   ],
   "source": [
    "# Ex9\n",
    "\n",
    "my_str = \"Hello this Is an Example With cased letters\"\n",
    "\n",
    "# Tách từ trong chuỗi và lưu vào danh sách ds_tu\n",
    "ds_tu = my_str.split()\n",
    "\n",
    "# Sắp xếp các phần tử (từ) trong danh sách từ ds_tu\n",
    "ds_tu.sort()\n",
    "\n",
    "# Hiển thị từ từ trong danh sách\n",
    "print(\"Các từ đã được tách và sắp xếp theo Alphabe\")\n",
    "for tu in ds_tu:\n",
    "    print(tu)"
   ]
  },
  {
   "cell_type": "code",
   "execution_count": 44,
   "id": "6f1da532",
   "metadata": {},
   "outputs": [
    {
     "name": "stdout",
     "output_type": "stream",
     "text": [
      "Average is: 3.0\n"
     ]
    }
   ],
   "source": [
    "# Ex10\n",
    "\n",
    "total = 0\n",
    "count = 0\n",
    "\n",
    "while True:\n",
    "    inp = input(\"Enter a number: \")\n",
    "    if inp == \"\":\n",
    "        break\n",
    "    value = float(inp)\n",
    "    total = total + value\n",
    "    count = count + 1\n",
    "\n",
    "average = total / count\n",
    "print(\"Average is:\", average)"
   ]
  },
  {
   "cell_type": "code",
   "execution_count": 45,
   "id": "b0692c33",
   "metadata": {},
   "outputs": [
    {
     "name": "stdout",
     "output_type": "stream",
     "text": [
      "Giá trị Trung bình: 3.0\n",
      "[1.0, 2.0, 3.0, 4.0, 5.0]\n"
     ]
    }
   ],
   "source": [
    "# Ex11\n",
    "\n",
    "numlist = list()\n",
    "\n",
    "\n",
    "def sum(list: list):\n",
    "    sum = 0\n",
    "    for num in list:\n",
    "        sum += num\n",
    "    return sum\n",
    "\n",
    "\n",
    "while True:\n",
    "    inp = input(\"Enter a number: \")\n",
    "    if inp == \"\":\n",
    "        break\n",
    "    value = float(inp)\n",
    "    numlist.append(value)\n",
    "\n",
    "average = sum(numlist) / len(numlist)\n",
    "print(\"Giá trị Trung bình:\", average)\n",
    "print(numlist)"
   ]
  },
  {
   "cell_type": "code",
   "execution_count": 46,
   "id": "e939e924",
   "metadata": {},
   "outputs": [
    {
     "name": "stdout",
     "output_type": "stream",
     "text": [
      "2002,2009,2016,2023,2037,2044,2051,2058,2072,2079,2086,2093,2107,2114,2121,2128,2142,2149,2156,2163,2177,2184,2191,2198,2212,2219,2226,2233,2247,2254,2261,2268,2282,2289,2296,2303,2317,2324,2331,2338,2352,2359,2366,2373,2387,2394,2401,2408,2422,2429,2436,2443,2457,2464,2471,2478,2492,2499,2506,2513,2527,2534,2541,2548,2562,2569,2576,2583,2597,2604,2611,2618,2632,2639,2646,2653,2667,2674,2681,2688,2702,2709,2716,2723,2737,2744,2751,2758,2772,2779,2786,2793,2807,2814,2821,2828,2842,2849,2856,2863,2877,2884,2891,2898,2912,2919,2926,2933,2947,2954,2961,2968,2982,2989,2996,3003,3017,3024,3031,3038,3052,3059,3066,3073,3087,3094,3101,3108,3122,3129,3136,3143,3157,3164,3171,3178,3192,3199\n"
     ]
    }
   ],
   "source": [
    "# Ex12\n",
    "\n",
    "j = []\n",
    "\n",
    "for num in range(2000, 3201):\n",
    "    if (num % 7 == 0) and (num % 5 != 0):\n",
    "        j.append(str(num))\n",
    "\n",
    "print(\",\".join(j))"
   ]
  },
  {
   "cell_type": "code",
   "execution_count": 47,
   "id": "3d2cf799",
   "metadata": {},
   "outputs": [
    {
     "name": "stdout",
     "output_type": "stream",
     "text": [
      "HELLO,\n",
      "WORLD\n"
     ]
    }
   ],
   "source": [
    "# Ex13\n",
    "\n",
    "lines = []\n",
    "\n",
    "while True:\n",
    "    s = input()\n",
    "    if s:\n",
    "        lines.append(s.upper())\n",
    "    else:\n",
    "        break\n",
    "\n",
    "for sentence in lines:\n",
    "    print(sentence)"
   ]
  },
  {
   "cell_type": "code",
   "execution_count": 48,
   "id": "24a45d86",
   "metadata": {},
   "outputs": [
    {
     "name": "stdout",
     "output_type": "stream",
     "text": [
      "200,202,204,206,208,220,222,224,226,228,240,242,244,246,248,260,262,264,266,268,280,282,284,286,288\n"
     ]
    }
   ],
   "source": [
    "# Ex 14\n",
    "\n",
    "founds = []\n",
    "\n",
    "for i in range(100, 301):\n",
    "    s = str(i)\n",
    "    if all(int(digit) % 2 == 0 for digit in s):\n",
    "        founds.append(s)\n",
    "\n",
    "print(\",\".join(founds))"
   ]
  },
  {
   "cell_type": "code",
   "execution_count": 49,
   "id": "272b1890",
   "metadata": {},
   "outputs": [
    {
     "name": "stdout",
     "output_type": "stream",
     "text": [
      "['1', '2', '3']\n",
      "('1', '2', '3')\n"
     ]
    }
   ],
   "source": [
    "# Ex15\n",
    "\n",
    "chuoi = input(\"Nhập vào các giá trị:\")\n",
    "\n",
    "kieu_ds = chuoi.split(\",\")\n",
    "kieu_tuples = tuple(kieu_ds)\n",
    "\n",
    "print(kieu_ds)\n",
    "print(kieu_tuples)"
   ]
  },
  {
   "cell_type": "code",
   "execution_count": null,
   "id": "a28652d3",
   "metadata": {},
   "outputs": [
    {
     "name": "stdout",
     "output_type": "stream",
     "text": [
      "{1: 1, 2: 4, 3: 9, 4: 16, 5: 25, 6: 36, 7: 49, 8: 64, 9: 81, 10: 100}\n"
     ]
    }
   ],
   "source": [
    "# Ex16\n",
    "\n",
    "decimal = int(input(\"Nhập vào một số:\"))\n",
    "d = dict()\n",
    "\n",
    "for i in range(1, decimal + 1):\n",
    "    d[i] = i * i\n",
    "\n",
    "print(d)"
   ]
  },
  {
   "cell_type": "code",
   "execution_count": null,
   "id": "08805cb8",
   "metadata": {},
   "outputs": [
    {
     "name": "stdout",
     "output_type": "stream",
     "text": [
      "Số chữ cái là: 0\n",
      "Số chữ số là: 2\n"
     ]
    }
   ],
   "source": [
    "# Ex17\n",
    "\n",
    "chuoi = input(\"Nhập vào một chuỗi:\")\n",
    "d = {\"chu_cai\": 0, \"chu_so\": 0}\n",
    "\n",
    "for ch in chuoi:\n",
    "    if ch.isalpha() == True:\n",
    "        d[\"chu_cai\"] += 1\n",
    "    elif ch.isdigit() == True:\n",
    "        d[\"chu_so\"] += 1\n",
    "    else:\n",
    "        pass\n",
    "\n",
    "print(\"Số chữ cái là:\", d[\"chu_cai\"])\n",
    "print(\"Số chữ số là:\", d[\"chu_so\"])"
   ]
  },
  {
   "cell_type": "code",
   "execution_count": 53,
   "id": "2f1834be",
   "metadata": {},
   "outputs": [
    {
     "name": "stdout",
     "output_type": "stream",
     "text": [
      "Số chữ hoa là: 2\n",
      "Số chữ thường là: 4\n"
     ]
    }
   ],
   "source": [
    "# Ex 18\n",
    "\n",
    "\n",
    "chuoi = input(\"Nhập vào một chuỗi:\")\n",
    "d = {\"chu_hoa\": 0, \"chu_thuong\": 0}\n",
    "\n",
    "for ch in chuoi:\n",
    "    if ch.isupper() == True:\n",
    "        d[\"chu_hoa\"] += 1\n",
    "    elif ch.islower() == True:\n",
    "        d[\"chu_thuong\"] += 1\n",
    "    else:\n",
    "        pass\n",
    "\n",
    "print(\"Số chữ hoa là:\", d[\"chu_hoa\"])\n",
    "print(\"Số chữ thường là:\", d[\"chu_thuong\"])"
   ]
  },
  {
   "cell_type": "code",
   "execution_count": 54,
   "id": "d8dd44b5",
   "metadata": {},
   "outputs": [
    {
     "name": "stdout",
     "output_type": "stream",
     "text": [
      "for 2\n",
      "read 1\n",
      "pythonvku001@gmail.com 1\n",
      "file 1\n",
      "exercise 1\n",
      "19 1\n"
     ]
    }
   ],
   "source": [
    "# Ex 19\n",
    "\n",
    "ftext = open(\"note_mail_nop_bai.txt\")\n",
    "tu_dien_cac_tu = {}\n",
    "for dong in ftext:\n",
    "    danh_sach_tu = dong.split()\n",
    "    for tu in danh_sach_tu:\n",
    "        tu_dien_cac_tu[tu] = tu_dien_cac_tu.get(tu, 0) + 1\n",
    "\n",
    "danh_sach = []\n",
    "for key, val in tu_dien_cac_tu.items():\n",
    "    newtup = (val, key)\n",
    "    danh_sach.append(newtup)\n",
    "\n",
    "danh_sach = sorted(danh_sach, reverse=True)\n",
    "\n",
    "for val, key in danh_sach[:10]:\n",
    "    print(key, val)"
   ]
  },
  {
   "cell_type": "code",
   "execution_count": 55,
   "id": "cd727e72",
   "metadata": {},
   "outputs": [
    {
     "name": "stdout",
     "output_type": "stream",
     "text": [
      "Giai thừa của 5 là: 120\n"
     ]
    }
   ],
   "source": [
    "# Ex20\n",
    "from utils.formatInput import intInput\n",
    "\n",
    "x = intInput(\"Nhập số cần tính giai thừa:\")\n",
    "\n",
    "\n",
    "def giaithua(x):\n",
    "    return 1 if x == 0 else x * giaithua(x - 1)\n",
    "\n",
    "\n",
    "print(\"Giai thừa của\", x, \"là:\", giaithua(x))"
   ]
  },
  {
   "cell_type": "code",
   "execution_count": 56,
   "id": "9d47d6b8",
   "metadata": {},
   "outputs": [
    {
     "name": "stdout",
     "output_type": "stream",
     "text": [
      "[1, 4, 9, 16, 25, 36, 49, 64, 81, 100, 121, 144, 169, 196, 225, 256, 289, 324, 361, 400]\n"
     ]
    }
   ],
   "source": [
    "# Ex21\n",
    "\n",
    "\n",
    "def Tao_In_DS():\n",
    "    ds = list()\n",
    "    for i in range(1, 21):\n",
    "        ds.append(i**2)\n",
    "    print(ds)\n",
    "\n",
    "\n",
    "Tao_In_DS()"
   ]
  },
  {
   "cell_type": "code",
   "execution_count": 57,
   "id": "d3f7dc74",
   "metadata": {},
   "outputs": [
    {
     "name": "stdout",
     "output_type": "stream",
     "text": [
      "[1, 4, 9, 16, 25, 256, 289, 324, 361, 400]\n"
     ]
    }
   ],
   "source": [
    "# Ex22\n",
    "\n",
    "\n",
    "def create_and_print_list():\n",
    "    lst = list()\n",
    "    for i in range(1, 21):\n",
    "        lst.append(i**2)\n",
    "    print(lst[:5] + lst[(len(lst) - 5) :])\n",
    "\n",
    "\n",
    "create_and_print_list()"
   ]
  },
  {
   "cell_type": "code",
   "execution_count": null,
   "id": "1f55fddc",
   "metadata": {},
   "outputs": [
    {
     "name": "stdout",
     "output_type": "stream",
     "text": [
      "6 is even\n"
     ]
    }
   ],
   "source": [
    "# Ex23\n",
    "\n",
    "from c2p2_modules.Kiem_tra import checkEven\n",
    "from utils.formatInput import intInput\n",
    "\n",
    "decimal = intInput(\"Enter a number to check:\")\n",
    "checkEven(decimal)"
   ]
  },
  {
   "cell_type": "code",
   "execution_count": 59,
   "id": "53a3cba8",
   "metadata": {},
   "outputs": [
    {
     "name": "stdout",
     "output_type": "stream",
     "text": [
      "Chuỗi dài hơn: hahahah\n"
     ]
    }
   ],
   "source": [
    "# Ex24\n",
    "\n",
    "from c2p2_modules.So_Sanh_Chuoi import printValue\n",
    "\n",
    "st1, st2 = input(\"Nhập chuỗi 1:\"), input(\"Nhập chuỗi 2:\")\n",
    "printValue(st1, st2)"
   ]
  },
  {
   "cell_type": "code",
   "execution_count": 2,
   "id": "210385c7",
   "metadata": {},
   "outputs": [
    {
     "name": "stdout",
     "output_type": "stream",
     "text": [
      "Created dict(max=5): {1: 1, 2: 4, 3: 9, 4: 16, 5: 25}\n",
      "Dict items:\n",
      "\t- Dict item: [1: 1]\n",
      "\t- Dict item: [2: 4]\n",
      "\t- Dict item: [3: 9]\n",
      "\t- Dict item: [4: 16]\n",
      "\t- Dict item: [5: 25]\n",
      "Dict keys:\n",
      "\t- Dict key: [1]\n",
      "\t- Dict key: [2]\n",
      "\t- Dict key: [3]\n",
      "\t- Dict key: [4]\n",
      "\t- Dict key: [5]\n",
      "Dict values:\n",
      "\t- Dict value: [1]\n",
      "\t- Dict value: [4]\n",
      "\t- Dict value: [9]\n",
      "\t- Dict value: [16]\n",
      "\t- Dict value: [25]\n"
     ]
    }
   ],
   "source": [
    "# Ex25\n",
    "\n",
    "from c2p2_modules.tu_dien import create_dict, print_item, print_key, print_value\n",
    "\n",
    "target_dict = create_dict(5)\n",
    "print_item(target_dict)\n",
    "print_key(target_dict)\n",
    "print_value(target_dict)"
   ]
  },
  {
   "cell_type": "code",
   "execution_count": 5,
   "id": "22999c5d",
   "metadata": {},
   "outputs": [
    {
     "name": "stdout",
     "output_type": "stream",
     "text": [
      "x is consonant\n"
     ]
    }
   ],
   "source": [
    "# Ex26\n",
    "\n",
    "char = input(\"Enter char:\")\n",
    "\n",
    "vowels_exclude_y = {\"a\", \"e\", \"i\", \"o\", \"u\"}\n",
    "if char == \"y\":\n",
    "    print(char, \"is vowel of consonant\")\n",
    "else:\n",
    "    print(char, \"is\", \"vowel\" if char in vowels_exclude_y else \"consonant\")"
   ]
  },
  {
   "cell_type": "code",
   "execution_count": 9,
   "id": "83607a4b",
   "metadata": {},
   "outputs": [
    {
     "name": "stdout",
     "output_type": "stream",
     "text": [
      "Ngũ Giác\n"
     ]
    }
   ],
   "source": [
    "# Ex27\n",
    "from utils.formatInput import intInput\n",
    "\n",
    "edges = intInput(\"Number of edges\")\n",
    "name_map = {\n",
    "    3: \"tam\",\n",
    "    4: \"tứ\",\n",
    "    5: \"ngũ\",\n",
    "    6: \"lục\",\n",
    "    7: \"thất\",\n",
    "    8: \"bát\",\n",
    "    9: \"cửu\",\n",
    "    10: \"thập\",\n",
    "}\n",
    "print((name_map[edges] + \" giác\").title() if (edges in name_map) else \"Không hỗ trợ\")"
   ]
  },
  {
   "cell_type": "code",
   "execution_count": 13,
   "id": "727b3cff",
   "metadata": {},
   "outputs": [
    {
     "name": "stdout",
     "output_type": "stream",
     "text": [
      "30 days\n"
     ]
    }
   ],
   "source": [
    "# Ex28\n",
    "\n",
    "month = intInput(\"Enter month:\")\n",
    "assert month > 0 and month < 13, \"Invalid month\"\n",
    "\n",
    "if month == 2:\n",
    "    print(\"28 or 29 days\")\n",
    "else:\n",
    "    print(\"31\" if (month in {1, 3, 5, 7, 8, 10, 12}) else \"30\", \"days\")"
   ]
  },
  {
   "cell_type": "code",
   "execution_count": null,
   "id": "8805aebb",
   "metadata": {},
   "outputs": [],
   "source": [
    "# Ex29\n",
    "\n",
    "a, b, c = (\n",
    "    floatInput(\"Enter edge a\"),\n",
    "    floatInput(\"Enter edge b\"),\n",
    "    floatInput(\"Enter edge c\"),\n",
    ")\n",
    "\n",
    "if a == b and a == c:\n",
    "    print(\"Đều\")\n",
    "elif a == b or a == c or b == c:\n",
    "    print(\"Cân\")\n",
    "else:\n",
    "    print(\"Vuông, tù hoặc nhọn\")"
   ]
  },
  {
   "cell_type": "code",
   "execution_count": 19,
   "id": "cf366e96",
   "metadata": {},
   "outputs": [
    {
     "name": "stdout",
     "output_type": "stream",
     "text": [
      "100 không phải là năm nhuận\n"
     ]
    }
   ],
   "source": [
    "# Ex 30\n",
    "\n",
    "year = intInput(\"Enter year:\")\n",
    "\n",
    "\n",
    "def nhuan(year: int):\n",
    "    if year % 400 == 0:\n",
    "        return True\n",
    "    else:\n",
    "        if year % 100 == 0:\n",
    "            return False\n",
    "        else:\n",
    "            return True if year % 4 == 0 else False\n",
    "\n",
    "\n",
    "print(year, (\"\" if nhuan(year) else \"không phải \") + \"là năm nhuận\")"
   ]
  },
  {
   "cell_type": "code",
   "execution_count": 20,
   "id": "39a47f5c",
   "metadata": {},
   "outputs": [
    {
     "name": "stdout",
     "output_type": "stream",
     "text": [
      "Encoded message: Khoor, zruog\n"
     ]
    }
   ],
   "source": [
    "# Ex31\n",
    "\n",
    "shift = 3\n",
    "plain_text = input(\"Enter message: \")\n",
    "decoded = \"\"\n",
    "\n",
    "for ch in plain_text:\n",
    "    if \"A\" <= ch <= \"Z\":\n",
    "        # Dịch trong phạm vi chữ hoa\n",
    "        decoded += chr((ord(ch) - ord(\"A\") + shift) % 26 + ord(\"A\"))\n",
    "    elif \"a\" <= ch <= \"z\":\n",
    "        # Dịch trong phạm vi chữ thường\n",
    "        decoded += chr((ord(ch) - ord(\"a\") + shift) % 26 + ord(\"a\"))\n",
    "    else:\n",
    "        # Giữ nguyên ký tự không phải chữ cái\n",
    "        decoded += ch\n",
    "\n",
    "print(\"Encoded message:\", decoded)"
   ]
  },
  {
   "cell_type": "code",
   "execution_count": 21,
   "id": "ca96ee19",
   "metadata": {},
   "outputs": [
    {
     "name": "stdout",
     "output_type": "stream",
     "text": [
      "Encoded message: Khoor, zruog\n",
      "Decoded message: Hello, world\n"
     ]
    }
   ],
   "source": [
    "# Ex32\n",
    "\n",
    "text = input(\"Enter message: \")\n",
    "shift = intInput(\"Enter shift\")\n",
    "\n",
    "\n",
    "def ceasar_encode(plain_text, shift):\n",
    "    encoded = \"\"\n",
    "    for ch in plain_text:\n",
    "        if \"A\" <= ch <= \"Z\":\n",
    "            # Dịch trong phạm vi chữ hoa\n",
    "            encoded += chr((ord(ch) - ord(\"A\") + shift) % 26 + ord(\"A\"))\n",
    "        elif \"a\" <= ch <= \"z\":\n",
    "            # Dịch trong phạm vi chữ thường\n",
    "            encoded += chr((ord(ch) - ord(\"a\") + shift) % 26 + ord(\"a\"))\n",
    "        else:\n",
    "            # Giữ nguyên ký tự không phải chữ cái\n",
    "            encoded += ch\n",
    "    return encoded\n",
    "\n",
    "\n",
    "def ceasar_decode(cipher_text, shift):\n",
    "    decoded = \"\"\n",
    "    for ch in cipher_text:\n",
    "        if \"A\" <= ch <= \"Z\":\n",
    "            # Dịch trong phạm vi chữ hoa\n",
    "            decoded += chr((ord(ch) - ord(\"A\") - shift) % 26 + ord(\"A\"))\n",
    "        elif \"a\" <= ch <= \"z\":\n",
    "            # Dịch trong phạm vi chữ thường\n",
    "            decoded += chr((ord(ch) - ord(\"a\") - shift) % 26 + ord(\"a\"))\n",
    "        else:\n",
    "            # Giữ nguyên ký tự không phải chữ cái\n",
    "            decoded += ch\n",
    "    return decoded\n",
    "\n",
    "\n",
    "encoded = ceasar_encode(plain_text=text, shift=shift)\n",
    "decoded = ceasar_decode(cipher_text=encoded, shift=shift)\n",
    "print(\"Encoded message:\", encoded)\n",
    "print(\"Decoded message:\", decoded)"
   ]
  },
  {
   "cell_type": "code",
   "execution_count": 35,
   "id": "44a8d0c1",
   "metadata": {},
   "outputs": [
    {
     "name": "stdout",
     "output_type": "stream",
     "text": [
      "hahah is Palindrom string\n"
     ]
    }
   ],
   "source": [
    "# Ex33\n",
    "\n",
    "string = input(\"Enter string:\")\n",
    "\n",
    "\n",
    "def isPalindrom(string: str):\n",
    "    length = len(string) // 2\n",
    "    return all(string[i] == string[-(i + 1)] for i in range(0, length))\n",
    "\n",
    "\n",
    "print(string, \"is\" + (\"\" if isPalindrom(string) else \" not\"), \"Palindrom string\")"
   ]
  },
  {
   "cell_type": "code",
   "execution_count": 39,
   "id": "cbf0650a",
   "metadata": {},
   "outputs": [
    {
     "name": "stdout",
     "output_type": "stream",
     "text": [
      "Binary: 101\n"
     ]
    }
   ],
   "source": [
    "# Ex34\n",
    "\n",
    "\n",
    "def toBinary(decimal: int):\n",
    "    if decimal == 0:\n",
    "        return \"0\"\n",
    "\n",
    "    bits = \"\"\n",
    "    while decimal > 0:\n",
    "        bits = str(decimal % 2) + bits\n",
    "        decimal //= 2\n",
    "    return bits\n",
    "\n",
    "\n",
    "print(\"Binary:\", toBinary(intInput(\"Enter decimal\")))"
   ]
  },
  {
   "cell_type": "code",
   "execution_count": 43,
   "id": "9a6582ae",
   "metadata": {},
   "outputs": [
    {
     "name": "stdout",
     "output_type": "stream",
     "text": [
      "Odds: [1, 3, 5]\n"
     ]
    }
   ],
   "source": [
    "# Ex35\n",
    "\n",
    "i_list = input(\"Enter list of number:\").split(\",\")\n",
    "odds = []\n",
    "for num in i_list:\n",
    "    num = int(num)\n",
    "    if num % 2 == 1:\n",
    "        odds.append(num)\n",
    "\n",
    "print(\"Odds:\", odds)"
   ]
  },
  {
   "cell_type": "code",
   "execution_count": 8,
   "id": "c497bd43",
   "metadata": {},
   "outputs": [
    {
     "name": "stdout",
     "output_type": "stream",
     "text": [
      "1\n",
      "2\n",
      "3\n"
     ]
    }
   ],
   "source": [
    "# Ex36\n",
    "from utils.formatInput import intInput\n",
    "\n",
    "lst = []\n",
    "while num := intInput(\"Enter number\"):\n",
    "    if num == 0:\n",
    "        break\n",
    "    lst.append(num)\n",
    "\n",
    "lst.sort()\n",
    "for num in lst:\n",
    "    print(num)"
   ]
  },
  {
   "cell_type": "code",
   "execution_count": 10,
   "id": "ed581bee",
   "metadata": {},
   "outputs": [
    {
     "name": "stdout",
     "output_type": "stream",
     "text": [
      "Hello\n",
      "world\n"
     ]
    }
   ],
   "source": [
    "# Ex37\n",
    "\n",
    "lst = []\n",
    "while line := input(\"\"):\n",
    "    lst.append(line)\n",
    "\n",
    "print(\"\\n\".join(set(lst)))"
   ]
  },
  {
   "cell_type": "code",
   "execution_count": 18,
   "id": "6854bbb5",
   "metadata": {},
   "outputs": [
    {
     "name": "stdout",
     "output_type": "stream",
     "text": [
      "-4, -1, -2, 0, 0, 3, 1\n"
     ]
    }
   ],
   "source": [
    "# Ex38\n",
    "\n",
    "neg = []\n",
    "zer = []\n",
    "pos = []\n",
    "\n",
    "while num := input(\"Enter number\"):\n",
    "    numVal = int(num)\n",
    "    if numVal == 0:\n",
    "        zer.append(num)\n",
    "    else:\n",
    "        (neg if numVal < 0 else pos).append(num)\n",
    "\n",
    "neg.extend(zer)\n",
    "neg.extend(pos)\n",
    "\n",
    "print(\", \".join(neg))"
   ]
  },
  {
   "cell_type": "code",
   "execution_count": 19,
   "id": "ce95fc86",
   "metadata": {},
   "outputs": [
    {
     "name": "stdout",
     "output_type": "stream",
     "text": [
      "{1: 1, 2: 4, 3: 9, 4: 16, 5: 25}\n"
     ]
    }
   ],
   "source": [
    "# Ex39\n",
    "\n",
    "dct = {}\n",
    "for i in range(1, intInput(\"Enter n\") + 1):\n",
    "    dct[i] = i**2\n",
    "print(dct)"
   ]
  },
  {
   "cell_type": "code",
   "execution_count": 23,
   "id": "9fa8ebb6",
   "metadata": {},
   "outputs": [
    {
     "name": "stdout",
     "output_type": "stream",
     "text": [
      "(1, 2, 3, 4, 5) (6, 7, 8, 9, 10)\n"
     ]
    }
   ],
   "source": [
    "# Ex40\n",
    "\n",
    "t = (1, 2, 3, 4, 5, 6, 7, 8, 9, 10)\n",
    "l = len(t) // 2\n",
    "print(t[:l], t[l:])"
   ]
  },
  {
   "cell_type": "code",
   "execution_count": 1,
   "id": "c5cbb491",
   "metadata": {},
   "outputs": [
    {
     "name": "stdout",
     "output_type": "stream",
     "text": [
      "(2, 4, 6, 8, 10)\n"
     ]
    }
   ],
   "source": [
    "# Ex41\n",
    "\n",
    "t = (1, 2, 3, 4, 5, 6, 7, 8, 9, 10)\n",
    "even_lst = []\n",
    "\n",
    "for num in t:\n",
    "    if num % 2 == 0:\n",
    "        even_lst.append(num)\n",
    "\n",
    "print(tuple(even_lst))"
   ]
  },
  {
   "cell_type": "code",
   "execution_count": 2,
   "id": "7a1aa2bc",
   "metadata": {},
   "outputs": [
    {
     "name": "stdout",
     "output_type": "stream",
     "text": [
      "40320\n"
     ]
    }
   ],
   "source": [
    "# Ex42\n",
    "\n",
    "\n",
    "def gt(num: int):\n",
    "    gt = 1\n",
    "    for i in range(1, num + 1):\n",
    "        gt *= i\n",
    "    return gt\n",
    "\n",
    "\n",
    "print(gt(8))"
   ]
  },
  {
   "cell_type": "code",
   "execution_count": 7,
   "id": "d5f44f7b",
   "metadata": {},
   "outputs": [
    {
     "name": "stdout",
     "output_type": "stream",
     "text": [
      "ngan\n"
     ]
    }
   ],
   "source": [
    "# Ex43\n",
    "\n",
    "\n",
    "def print_str(st1: str, st2: str):\n",
    "    d_len = len(st1) - len(st2)\n",
    "    if d_len == 0:\n",
    "        return print(st1, \"\\n\" + st2)\n",
    "    print(st1 if d_len > 0 else st2)\n",
    "    \n",
    "print_str('ngan', 'dai')"
   ]
  },
  {
   "cell_type": "code",
   "execution_count": 8,
   "id": "f233c5f9",
   "metadata": {},
   "outputs": [
    {
     "name": "stdout",
     "output_type": "stream",
     "text": [
      "[1, 4, 9, 16, 25, 36, 49, 64, 81, 100, 121, 144, 169, 196, 225, 256, 289, 324, 361, 400]\n"
     ]
    }
   ],
   "source": [
    "# Ex44\n",
    "\n",
    "\n",
    "def print_p2_lst(n: int = 20):\n",
    "    lst = []\n",
    "    for i in range(1, n + 1):\n",
    "        lst.append(i**2)\n",
    "    print(lst)\n",
    "    \n",
    "print_p2_lst()"
   ]
  },
  {
   "cell_type": "code",
   "execution_count": 9,
   "id": "d8b8885c",
   "metadata": {},
   "outputs": [
    {
     "name": "stdout",
     "output_type": "stream",
     "text": [
      "[1, 4, 9, 16, 25]\n"
     ]
    }
   ],
   "source": [
    "# Ex45\n",
    "\n",
    "\n",
    "def print_5_first_p2_lst(n: int = 20):\n",
    "    lst = []\n",
    "    for i in range(1, n + 1):\n",
    "        lst.append(i**2)\n",
    "    print(lst[:5])\n",
    "\n",
    "\n",
    "print_5_first_p2_lst()"
   ]
  },
  {
   "cell_type": "code",
   "execution_count": 12,
   "id": "dd346abb",
   "metadata": {},
   "outputs": [
    {
     "name": "stdout",
     "output_type": "stream",
     "text": [
      "[256, 289, 324, 361, 400]\n"
     ]
    }
   ],
   "source": [
    "# Ex46\n",
    "\n",
    "\n",
    "def print_5_last_p2_lst(n: int = 20):\n",
    "    lst = []\n",
    "    for i in range(1, n + 1):\n",
    "        lst.append(i**2)\n",
    "    print(lst[(len(lst) - 5) :])\n",
    "\n",
    "\n",
    "print_5_last_p2_lst()"
   ]
  },
  {
   "cell_type": "code",
   "execution_count": 14,
   "id": "5dd2793a",
   "metadata": {},
   "outputs": [
    {
     "name": "stdout",
     "output_type": "stream",
     "text": [
      "[36, 49, 64, 81, 100, 121, 144, 169, 196, 225, 256, 289, 324, 361, 400]\n"
     ]
    }
   ],
   "source": [
    "# Ex47\n",
    "\n",
    "def print_ignore_5_first_p2_lst(n: int = 20):\n",
    "    lst = []\n",
    "    for i in range(1, n + 1):\n",
    "        lst.append(i**2)\n",
    "    print(lst[5:])\n",
    "\n",
    "\n",
    "print_ignore_5_first_p2_lst()"
   ]
  },
  {
   "cell_type": "code",
   "execution_count": 16,
   "id": "d50c04b3",
   "metadata": {},
   "outputs": [
    {
     "name": "stdout",
     "output_type": "stream",
     "text": [
      "2.0\n"
     ]
    }
   ],
   "source": [
    "# Ex48\n",
    "from utils.formatInput import floatInput\n",
    "\n",
    "\n",
    "def avg_3(a: float, b: float, c: float):\n",
    "    return (a + b + c) / 3\n",
    "\n",
    "\n",
    "a, b, c = floatInput(\"Enter a\"), floatInput(\"Enter b\"), floatInput(\"Enter c\")\n",
    "print(avg_3(a, b, c))"
   ]
  },
  {
   "cell_type": "code",
   "execution_count": 18,
   "id": "43564c8c",
   "metadata": {},
   "outputs": [
    {
     "name": "stdout",
     "output_type": "stream",
     "text": [
      "Is not prime\n"
     ]
    }
   ],
   "source": [
    "# Ex49\n",
    "\n",
    "from math import sqrt\n",
    "from utils.formatInput import intInput\n",
    "\n",
    "\n",
    "def is_prime(n: int) -> bool:\n",
    "    if n < 2:\n",
    "        return False\n",
    "\n",
    "    sqrtN = int(sqrt(n))\n",
    "    for i in range(2, sqrtN + 1):\n",
    "        if n % i == 0:\n",
    "            return False\n",
    "    return True\n",
    "\n",
    "\n",
    "print(\"Is prime\" if is_prime(intInput(\"Enter n\")) else \"Is not prime\")"
   ]
  },
  {
   "cell_type": "code",
   "execution_count": 19,
   "id": "0d917b03",
   "metadata": {},
   "outputs": [
    {
     "name": "stdout",
     "output_type": "stream",
     "text": [
      "ubX[4.e5I\n"
     ]
    }
   ],
   "source": [
    "# Ex50\n",
    "\n",
    "import random\n",
    "\n",
    "\n",
    "def random_pw():\n",
    "    return \"\".join(chr(random.randint(33, 126)) for _ in range(random.randint(7, 10)))\n",
    "\n",
    "\n",
    "print(random_pw())"
   ]
  },
  {
   "cell_type": "code",
   "execution_count": 20,
   "id": "d3d4682b",
   "metadata": {},
   "outputs": [
    {
     "name": "stdout",
     "output_type": "stream",
     "text": [
      "Bad\n"
     ]
    }
   ],
   "source": [
    "# Ex51\n",
    "\n",
    "\n",
    "def check_pw(password):\n",
    "    return (\n",
    "        len(password) >= 8\n",
    "        and any(c.isupper() for c in password)\n",
    "        and any(c.islower() for c in password)\n",
    "        and any(c.isdigit() for c in password)\n",
    "    )\n",
    "\n",
    "\n",
    "# Chương trình chính\n",
    "pw = input(\"Enter password: \")\n",
    "print(\"Good\" if check_pw(pw) else \"Bad\")"
   ]
  },
  {
   "cell_type": "code",
   "execution_count": 21,
   "id": "89ee28b0",
   "metadata": {},
   "outputs": [
    {
     "name": "stdout",
     "output_type": "stream",
     "text": [
      "Perfect numbers between 1 and 10000:\n",
      "6\n",
      "28\n",
      "496\n",
      "8128\n"
     ]
    }
   ],
   "source": [
    "# Ex52\n",
    "\n",
    "\n",
    "def is_perfect(n):\n",
    "    if n < 2:\n",
    "        return False\n",
    "    divisors_sum = sum(i for i in range(1, n // 2 + 1) if n % i == 0)\n",
    "    return divisors_sum == n\n",
    "\n",
    "\n",
    "print(\"Perfect numbers between 1 and 10000:\")\n",
    "for number in range(1, 10001):\n",
    "    if is_perfect(number):\n",
    "        print(number)"
   ]
  },
  {
   "cell_type": "code",
   "execution_count": 22,
   "id": "f030d582",
   "metadata": {},
   "outputs": [
    {
     "name": "stdout",
     "output_type": "stream",
     "text": [
      "[[], [1], [1, 2], [1, 2, 3], [2], [2, 3], [3]]\n"
     ]
    }
   ],
   "source": [
    "# Ex53\n",
    "\n",
    "\n",
    "def all_sublists(lst):\n",
    "    subs = [[]]\n",
    "    for i in range(len(lst) + 1):\n",
    "        for j in range(i + 1, len(lst) + 1):\n",
    "            subs.append(lst[i:j])\n",
    "    return subs\n",
    "\n",
    "\n",
    "print(all_sublists([1, 2, 3]))"
   ]
  },
  {
   "cell_type": "code",
   "execution_count": 23,
   "id": "996b341d",
   "metadata": {},
   "outputs": [
    {
     "name": "stdout",
     "output_type": "stream",
     "text": [
      "Formatted list: apples, oranges, bananas and lemons\n"
     ]
    }
   ],
   "source": [
    "# Ex54\n",
    "\n",
    "\n",
    "def format_list(words):\n",
    "    if not words:\n",
    "        return \"\"\n",
    "    if len(words) == 1:\n",
    "        return words[0]\n",
    "    if len(words) == 2:\n",
    "        return f\"{words[0]} and {words[1]}\"\n",
    "    return f\"{', '.join(words[:-1])} and {words[-1]}\"\n",
    "\n",
    "\n",
    "# Main program\n",
    "items = input(\"Enter words separated by spaces: \").split()\n",
    "message = format_list(items)\n",
    "print(\"Formatted list:\", message)"
   ]
  },
  {
   "cell_type": "code",
   "execution_count": null,
   "id": "287af473",
   "metadata": {},
   "outputs": [],
   "source": [
    "# Ex55\n",
    "\n"
   ]
  }
 ],
 "metadata": {
  "kernelspec": {
   "display_name": "Python 3",
   "language": "python",
   "name": "python3"
  },
  "language_info": {
   "codemirror_mode": {
    "name": "ipython",
    "version": 3
   },
   "file_extension": ".py",
   "mimetype": "text/x-python",
   "name": "python",
   "nbconvert_exporter": "python",
   "pygments_lexer": "ipython3",
   "version": "3.11.5"
  }
 },
 "nbformat": 4,
 "nbformat_minor": 5
}
